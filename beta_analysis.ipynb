{
 "cells": [
  {
   "cell_type": "markdown",
   "metadata": {
    "collapsed": true
   },
   "source": [
    "# $\\pmb{\\beta}_D$"
   ]
  },
  {
   "cell_type": "markdown",
   "source": [
    "## $\\pmb{\\beta}_D$ Manipulation analysis:\n",
    "*   low $\\beta_0$: higher chances of survival\n",
    "*   low $\\beta_1$: higher chances of survival under t=1 <- perhaps we can change D to be $\\beta_1*(1-t)$ to control monotonicity!\n",
    "*   low $\\beta_2$: higher chances of survival for positive X, and the opposite of negative"
   ],
   "metadata": {
    "collapsed": false
   }
  },
  {
   "cell_type": "code",
   "source": [
    "from typing import Optional, List\n",
    "\n",
    "import numpy as np\n",
    "import pandas as pd\n",
    "from IPython.core.display import display\n",
    "from numpy import random\n",
    "from sklearn.linear_model import LogisticRegression\n",
    "\n",
    "from consts import default_random_seed\n",
    "from estimations import estimate_beta_d_from_realizations\n",
    "from sample_generation import create_sample\n",
    "\n",
    "random.seed(default_random_seed)"
   ],
   "metadata": {
    "collapsed": false
   },
   "execution_count": 1,
   "outputs": []
  },
  {
   "cell_type": "code",
   "execution_count": 2,
   "outputs": [],
   "source": [
    "def manipulate_beta_d():\n",
    "    beta_d_list = [\n",
    "    ([0.0, 0.0, 0.0], \"beta's=0 -> 1/(1+e^0) -> death is random\"),\n",
    "    ([0.0, -5.0, 1.0], \"low beta_1 -> higher chances of survival under t=1 -> mainly P and AS\"),\n",
    "    ([0.0, 10.0, 1.0], \"high beta_1 -> lower chances of survival under t=1 -> mainly H and D\"),\n",
    "    ([0.0, 10.0, 10.0], \"high beta_1 + high beta_2 -> lower chances of survival under t=1 -> mainly H and D\"),\n",
    "    ([-10.0, 10.0, 1.0], \"high beta_1 + low beta_0 -> mainly H and AS\"),\n",
    "    ([-10.0, -10.0, 1.0], \"low beta_1 + low beta_0 -> mainly AS\"),\n",
    "    ([-2.0, -2.0, 1.0], \"low beta_1 + low beta_0 -> mainly AS, less extreme\"),\n",
    "    ]\n",
    "\n",
    "    for beta_d_i, desc in beta_d_list:\n",
    "        df = create_sample(beta_d = beta_d_i)\n",
    "        print(f\"for beta_D {beta_d_i} ({desc}):\")\n",
    "        display(pd.DataFrame({\"count\":df.stratum.value_counts(),\"%\":df.stratum.value_counts(normalize=True)*100}))\n",
    "        print(\"\\n\\n\")\n",
    "\n",
    "    # Understand X effect (beta_2)"
   ],
   "metadata": {
    "collapsed": false
   }
  },
  {
   "cell_type": "code",
   "execution_count": 3,
   "outputs": [
    {
     "name": "stdout",
     "output_type": "stream",
     "text": [
      "for beta_D [0.0, 0.0, 0.0] (beta's=0 -> 1/(1+e^0) -> death is random):\n"
     ]
    },
    {
     "data": {
      "text/plain": "    count     %\nAS    259  25.9\nP     253  25.3\nD     249  24.9\nH     239  23.9",
      "text/html": "<div>\n<style scoped>\n    .dataframe tbody tr th:only-of-type {\n        vertical-align: middle;\n    }\n\n    .dataframe tbody tr th {\n        vertical-align: top;\n    }\n\n    .dataframe thead th {\n        text-align: right;\n    }\n</style>\n<table border=\"1\" class=\"dataframe\">\n  <thead>\n    <tr style=\"text-align: right;\">\n      <th></th>\n      <th>count</th>\n      <th>%</th>\n    </tr>\n  </thead>\n  <tbody>\n    <tr>\n      <th>AS</th>\n      <td>259</td>\n      <td>25.9</td>\n    </tr>\n    <tr>\n      <th>P</th>\n      <td>253</td>\n      <td>25.3</td>\n    </tr>\n    <tr>\n      <th>D</th>\n      <td>249</td>\n      <td>24.9</td>\n    </tr>\n    <tr>\n      <th>H</th>\n      <td>239</td>\n      <td>23.9</td>\n    </tr>\n  </tbody>\n</table>\n</div>"
     },
     "metadata": {},
     "output_type": "display_data"
    },
    {
     "name": "stdout",
     "output_type": "stream",
     "text": [
      "\n",
      "\n",
      "\n",
      "for beta_D [0.0, -5.0, 1.0] (low beta_1 -> higher chances of survival under t=1 -> mainly P and AS):\n"
     ]
    },
    {
     "data": {
      "text/plain": "    count     %\nAS    511  51.1\nP     481  48.1\nH       5   0.5\nD       3   0.3",
      "text/html": "<div>\n<style scoped>\n    .dataframe tbody tr th:only-of-type {\n        vertical-align: middle;\n    }\n\n    .dataframe tbody tr th {\n        vertical-align: top;\n    }\n\n    .dataframe thead th {\n        text-align: right;\n    }\n</style>\n<table border=\"1\" class=\"dataframe\">\n  <thead>\n    <tr style=\"text-align: right;\">\n      <th></th>\n      <th>count</th>\n      <th>%</th>\n    </tr>\n  </thead>\n  <tbody>\n    <tr>\n      <th>AS</th>\n      <td>511</td>\n      <td>51.1</td>\n    </tr>\n    <tr>\n      <th>P</th>\n      <td>481</td>\n      <td>48.1</td>\n    </tr>\n    <tr>\n      <th>H</th>\n      <td>5</td>\n      <td>0.5</td>\n    </tr>\n    <tr>\n      <th>D</th>\n      <td>3</td>\n      <td>0.3</td>\n    </tr>\n  </tbody>\n</table>\n</div>"
     },
     "metadata": {},
     "output_type": "display_data"
    },
    {
     "name": "stdout",
     "output_type": "stream",
     "text": [
      "\n",
      "\n",
      "\n",
      "for beta_D [0.0, 10.0, 1.0] (high beta_1 -> lower chances of survival under t=1 -> mainly H and D):\n"
     ]
    },
    {
     "data": {
      "text/plain": "   count     %\nH    516  51.6\nD    484  48.4",
      "text/html": "<div>\n<style scoped>\n    .dataframe tbody tr th:only-of-type {\n        vertical-align: middle;\n    }\n\n    .dataframe tbody tr th {\n        vertical-align: top;\n    }\n\n    .dataframe thead th {\n        text-align: right;\n    }\n</style>\n<table border=\"1\" class=\"dataframe\">\n  <thead>\n    <tr style=\"text-align: right;\">\n      <th></th>\n      <th>count</th>\n      <th>%</th>\n    </tr>\n  </thead>\n  <tbody>\n    <tr>\n      <th>H</th>\n      <td>516</td>\n      <td>51.6</td>\n    </tr>\n    <tr>\n      <th>D</th>\n      <td>484</td>\n      <td>48.4</td>\n    </tr>\n  </tbody>\n</table>\n</div>"
     },
     "metadata": {},
     "output_type": "display_data"
    },
    {
     "name": "stdout",
     "output_type": "stream",
     "text": [
      "\n",
      "\n",
      "\n",
      "for beta_D [0.0, 10.0, 10.0] (high beta_1 + high beta_2 -> lower chances of survival under t=1 -> mainly H and D):\n"
     ]
    },
    {
     "data": {
      "text/plain": "    count     %\nD     482  48.2\nH     480  48.0\nAS     38   3.8",
      "text/html": "<div>\n<style scoped>\n    .dataframe tbody tr th:only-of-type {\n        vertical-align: middle;\n    }\n\n    .dataframe tbody tr th {\n        vertical-align: top;\n    }\n\n    .dataframe thead th {\n        text-align: right;\n    }\n</style>\n<table border=\"1\" class=\"dataframe\">\n  <thead>\n    <tr style=\"text-align: right;\">\n      <th></th>\n      <th>count</th>\n      <th>%</th>\n    </tr>\n  </thead>\n  <tbody>\n    <tr>\n      <th>D</th>\n      <td>482</td>\n      <td>48.2</td>\n    </tr>\n    <tr>\n      <th>H</th>\n      <td>480</td>\n      <td>48.0</td>\n    </tr>\n    <tr>\n      <th>AS</th>\n      <td>38</td>\n      <td>3.8</td>\n    </tr>\n  </tbody>\n</table>\n</div>"
     },
     "metadata": {},
     "output_type": "display_data"
    },
    {
     "name": "stdout",
     "output_type": "stream",
     "text": [
      "\n",
      "\n",
      "\n",
      "for beta_D [-10.0, 10.0, 1.0] (high beta_1 + low beta_0 -> mainly H and AS):\n"
     ]
    },
    {
     "data": {
      "text/plain": "    count     %\nH     507  50.7\nAS    493  49.3",
      "text/html": "<div>\n<style scoped>\n    .dataframe tbody tr th:only-of-type {\n        vertical-align: middle;\n    }\n\n    .dataframe tbody tr th {\n        vertical-align: top;\n    }\n\n    .dataframe thead th {\n        text-align: right;\n    }\n</style>\n<table border=\"1\" class=\"dataframe\">\n  <thead>\n    <tr style=\"text-align: right;\">\n      <th></th>\n      <th>count</th>\n      <th>%</th>\n    </tr>\n  </thead>\n  <tbody>\n    <tr>\n      <th>H</th>\n      <td>507</td>\n      <td>50.7</td>\n    </tr>\n    <tr>\n      <th>AS</th>\n      <td>493</td>\n      <td>49.3</td>\n    </tr>\n  </tbody>\n</table>\n</div>"
     },
     "metadata": {},
     "output_type": "display_data"
    },
    {
     "name": "stdout",
     "output_type": "stream",
     "text": [
      "\n",
      "\n",
      "\n",
      "for beta_D [-10.0, -10.0, 1.0] (low beta_1 + low beta_0 -> mainly AS):\n"
     ]
    },
    {
     "data": {
      "text/plain": "    count      %\nAS   1000  100.0",
      "text/html": "<div>\n<style scoped>\n    .dataframe tbody tr th:only-of-type {\n        vertical-align: middle;\n    }\n\n    .dataframe tbody tr th {\n        vertical-align: top;\n    }\n\n    .dataframe thead th {\n        text-align: right;\n    }\n</style>\n<table border=\"1\" class=\"dataframe\">\n  <thead>\n    <tr style=\"text-align: right;\">\n      <th></th>\n      <th>count</th>\n      <th>%</th>\n    </tr>\n  </thead>\n  <tbody>\n    <tr>\n      <th>AS</th>\n      <td>1000</td>\n      <td>100.0</td>\n    </tr>\n  </tbody>\n</table>\n</div>"
     },
     "metadata": {},
     "output_type": "display_data"
    },
    {
     "name": "stdout",
     "output_type": "stream",
     "text": [
      "\n",
      "\n",
      "\n",
      "for beta_D [-2.0, -2.0, 1.0] (low beta_1 + low beta_0 -> mainly AS, less extreme):\n"
     ]
    },
    {
     "data": {
      "text/plain": "    count     %\nAS    848  84.8\nP     134  13.4\nH      14   1.4\nD       4   0.4",
      "text/html": "<div>\n<style scoped>\n    .dataframe tbody tr th:only-of-type {\n        vertical-align: middle;\n    }\n\n    .dataframe tbody tr th {\n        vertical-align: top;\n    }\n\n    .dataframe thead th {\n        text-align: right;\n    }\n</style>\n<table border=\"1\" class=\"dataframe\">\n  <thead>\n    <tr style=\"text-align: right;\">\n      <th></th>\n      <th>count</th>\n      <th>%</th>\n    </tr>\n  </thead>\n  <tbody>\n    <tr>\n      <th>AS</th>\n      <td>848</td>\n      <td>84.8</td>\n    </tr>\n    <tr>\n      <th>P</th>\n      <td>134</td>\n      <td>13.4</td>\n    </tr>\n    <tr>\n      <th>H</th>\n      <td>14</td>\n      <td>1.4</td>\n    </tr>\n    <tr>\n      <th>D</th>\n      <td>4</td>\n      <td>0.4</td>\n    </tr>\n  </tbody>\n</table>\n</div>"
     },
     "metadata": {},
     "output_type": "display_data"
    },
    {
     "name": "stdout",
     "output_type": "stream",
     "text": [
      "\n",
      "\n",
      "\n"
     ]
    }
   ],
   "source": [
    "manipulate_beta_d()"
   ],
   "metadata": {
    "collapsed": false
   }
  },
  {
   "cell_type": "markdown",
   "source": [
    "## $\\pmb{\\beta}_D$ Estimation:"
   ],
   "metadata": {
    "collapsed": false
   }
  },
  {
   "cell_type": "markdown",
   "source": [
    "### Estimating $\\pmb{\\beta}_D$ from the observed realizations"
   ],
   "metadata": {
    "collapsed": false
   }
  },
  {
   "cell_type": "code",
   "execution_count": 4,
   "outputs": [
    {
     "name": "stdout",
     "output_type": "stream",
     "text": [
      "beta_d_hat: [-0.07, -4.1, 0.94]\n",
      "(True beta_d: [0.01, -5.0, 1.0])\n",
      "\n",
      "****\n",
      "\n",
      "beta_d_hat: [-1.99, -1.68, 0.63]\n",
      "(True beta_d: [-2.0, -2.0, 1.0])\n"
     ]
    },
    {
     "data": {
      "text/plain": "[-1.99, -1.68, 0.63]"
     },
     "execution_count": 4,
     "metadata": {},
     "output_type": "execute_result"
    }
   ],
   "source": [
    "estimate_beta_d_from_realizations([0.01, -5.0, 1.0])\n",
    "print(\"\\n****\\n\")\n",
    "estimate_beta_d_from_realizations([-2.0, -2.0, 1.0])"
   ],
   "metadata": {
    "collapsed": false
   }
  },
  {
   "cell_type": "markdown",
   "source": [
    "### Using both D's (potential outecomes)\n"
   ],
   "metadata": {
    "collapsed": false
   }
  },
  {
   "cell_type": "markdown",
   "source": [
    "\n",
    "Using sklearn's LogisticRegression.<br>\n",
    "Note that for both $D(0)$ and $D(1)$-> there is only $\\beta_0 + \\beta_2\\cdot x$:<br>\n",
    "\n",
    "\n",
    "*   $D(0)$: $\\beta_0 + \\beta_1\\cdot 0 + \\beta_2\\cdot x = \\beta_0 + \\beta_2\\cdot x$<br>\n",
    "*   $D(1)$: $\\beta_0 + \\beta_1\\cdot 1 + \\beta_2\\cdot x = \\underbrace{\\beta_0 +  \\beta_1}_{\\beta_0'} + \\beta_2\\cdot x = \\beta_0' + \\beta_2\\cdot x$\n",
    "\n",
    "Final $\\hat{\\pmb{\\beta}}_D$ will be assembled like so:<br>\n",
    "\n",
    "\n",
    "*   $\\hat{\\beta}_0 = \\hat{\\beta}_0(0)$\n",
    "*   $\\hat{\\beta}_1 = \\underbrace{\\hat{\\beta}_0(1)}_{:=\\beta_0'} - \\hat{\\beta}_0(0)$\n",
    "*   $\\hat{\\beta}_2 = $ Average of $\\hat{\\beta}_2(0)$ and $\\hat{\\beta}_2(1)$\n"
   ],
   "metadata": {
    "collapsed": false
   }
  },
  {
   "cell_type": "code",
   "execution_count": 5,
   "outputs": [],
   "source": [
    "def estimate_beta_d(true_beta_d_for_estimation: List[float],\n",
    "                    df: Optional[pd.DataFrame]=None):\n",
    "    if df == None:\n",
    "        df = create_sample(beta_d = true_beta_d_for_estimation)\n",
    "\n",
    "    features = [[x_i] for x_i in list(df.x)]\n",
    "    y = list(df.D0)\n",
    "    clf = LogisticRegression(random_state=0).fit(features, y)\n",
    "    beta_d_hat_t0 = [round(float(clf.intercept_),2)] + [round(beta,2) for beta in list(clf.coef_[0])]\n",
    "    print(\"for T=0:\")\n",
    "    print(f\"beta_d_hat: {beta_d_hat_t0}\")\n",
    "\n",
    "    # unique, counts = np.unique(clf.predict(features), return_counts=True)\n",
    "    # print(f\"values count for y_hat: {dict(zip(unique, counts))}\")\n",
    "    # unique, counts = np.unique(y, return_counts=True)\n",
    "    # print(f\"values count for : {dict(zip(unique, counts))}\")\n",
    "\n",
    "    y = list(df.D1)\n",
    "    clf = LogisticRegression(random_state=0).fit(features, y)\n",
    "    beta_d_hat_t1 = [round(float(clf.intercept_),2)] + [round(beta,2) for beta in list(clf.coef_[0])]\n",
    "    print(\"for T=0:\")\n",
    "    print(f\"beta_d_hat: {beta_d_hat_t1}\")\n",
    "\n",
    "    combined_beta_d = [beta_d_hat_t0[0], beta_d_hat_t1[0]-beta_d_hat_t0[0], np.mean([beta_d_hat_t0[1], beta_d_hat_t1[1]])]\n",
    "    combined_beta_d = [round(beta,2) for beta in combined_beta_d]\n",
    "    print(f\"\\nCombining both: {combined_beta_d}\")\n",
    "    print(f\"(True beta_d: {true_beta_d_for_estimation})\")\n",
    "\n"
   ],
   "metadata": {
    "collapsed": false
   }
  },
  {
   "cell_type": "code",
   "execution_count": 6,
   "outputs": [
    {
     "name": "stdout",
     "output_type": "stream",
     "text": [
      "for T=0:\n",
      "beta_d_hat: [-0.05, 0.87]\n",
      "for T=0:\n",
      "beta_d_hat: [-4.82, -0.0]\n",
      "\n",
      "Combining both: [-0.05, -4.77, 0.44]\n",
      "(True beta_d: [0.01, -5.0, 1.0])\n",
      "\n",
      "****\n",
      "\n",
      "for T=0:\n",
      "beta_d_hat: [-1.97, 1.16]\n",
      "for T=0:\n",
      "beta_d_hat: [-4.07, 0.71]\n",
      "\n",
      "Combining both: [-1.97, -2.1, 0.94]\n",
      "(True beta_d: [-2.0, -2.0, 1.0])\n"
     ]
    }
   ],
   "source": [
    "estimate_beta_d([0.01, -5.0, 1.0])\n",
    "print(\"\\n****\\n\")\n",
    "estimate_beta_d([-2.0, -2.0, 1.0])\n"
   ],
   "metadata": {
    "collapsed": false
   }
  },
  {
   "cell_type": "code",
   "execution_count": null,
   "outputs": [],
   "source": [],
   "metadata": {
    "collapsed": false
   }
  }
 ],
 "metadata": {
  "kernelspec": {
   "display_name": "Python 3",
   "language": "python",
   "name": "python3"
  },
  "language_info": {
   "codemirror_mode": {
    "name": "ipython",
    "version": 2
   },
   "file_extension": ".py",
   "mimetype": "text/x-python",
   "name": "python",
   "nbconvert_exporter": "python",
   "pygments_lexer": "ipython2",
   "version": "2.7.6"
  }
 },
 "nbformat": 4,
 "nbformat_minor": 0
}
