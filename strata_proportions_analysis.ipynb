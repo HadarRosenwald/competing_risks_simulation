{
 "cells": [
  {
   "cell_type": "markdown",
   "source": [
    "# $\\pi$ - Strata proportions estimation"
   ],
   "metadata": {
    "collapsed": false
   }
  },
  {
   "cell_type": "code",
   "execution_count": 1,
   "outputs": [],
   "source": [
    "from typing import List, Dict, Tuple\n",
    "\n",
    "import pandas as pd\n",
    "from numpy import random\n",
    "\n",
    "from consts import default_random_seed\n",
    "from sample_generation import create_sample\n",
    "from strata import Strata\n",
    "\n",
    "random.seed(default_random_seed)"
   ],
   "metadata": {
    "collapsed": false
   }
  },
  {
   "cell_type": "code",
   "execution_count": 2,
   "outputs": [],
   "source": [
    "def bound_strata_proportions(df: pd.DataFrame) -> Dict[Strata, Tuple[float, float]]:\n",
    "    p_t1_d0 = df.loc[(df.D1==0)&(df.t==1)].shape[0]/df.loc[df.t==1].shape[0]\n",
    "    p_t0_d0 = df.loc[(df.D0==0)&(df.t==0)].shape[0]/df.loc[df.t==0].shape[0]\n",
    "\n",
    "    pi_h_lower = max(0, p_t0_d0 - p_t1_d0)\n",
    "    pi_h_upper = min(p_t0_d0, 1 - p_t1_d0)\n",
    "\n",
    "    pi_as_lower = p_t0_d0 - pi_h_upper\n",
    "    pi_as_upper = p_t0_d0 - pi_h_lower\n",
    "\n",
    "    pi_p_lower = p_t1_d0 - pi_as_upper\n",
    "    pi_p_upper = p_t1_d0 - pi_as_lower\n",
    "\n",
    "    pi_d_lower = 1 - p_t1_d0 - pi_h_upper\n",
    "    pi_d_upper = 1 - p_t1_d0 - pi_h_lower\n",
    "\n",
    "    return {Strata.H: (pi_h_lower, pi_h_upper), Strata.AS: (pi_as_lower, pi_as_upper),\n",
    "            Strata.P: (pi_p_lower, pi_p_upper), Strata.D: (pi_d_lower, pi_d_upper)}\n"
   ],
   "metadata": {
    "collapsed": false
   }
  },
  {
   "cell_type": "code",
   "execution_count": 3,
   "outputs": [],
   "source": [
    "def check_strata_for_different_beta(beta_d_list: List[float] = [[0.0, 0.0, 0.0], [-2.0, -2.0, 1.0], [0.0, 5.0, 0.0], [0.0, 10.0, 0.0]]):\n",
    "    for beta_d in beta_d_list:\n",
    "        print(f\"\\nfor beta_d={beta_d}:\")\n",
    "        sample_for_bounds = create_sample(beta_d = beta_d)\n",
    "        prprtn_bounds = bound_strata_proportions(sample_for_bounds)\n",
    "\n",
    "        for stratum , bounds in prprtn_bounds.items():\n",
    "            true_pi  = round(100*sample_for_bounds.loc[sample_for_bounds.stratum==stratum.name].shape[0]/sample_for_bounds.shape[0],2)\n",
    "            lower_bound = round(100*bounds[0],2)\n",
    "            upper_bound = round(100*bounds[1],2)\n",
    "\n",
    "            within_bounds = \"✔\" if lower_bound<=true_pi<=upper_bound else \"✘\"\n",
    "\n",
    "            print(f\"Stratum {stratum.name} real value is: {true_pi}%, and it is bounded by: [{lower_bound}%, {upper_bound}%]   {within_bounds}\")"
   ],
   "metadata": {
    "collapsed": false
   }
  },
  {
   "cell_type": "code",
   "execution_count": 4,
   "outputs": [
    {
     "name": "stdout",
     "output_type": "stream",
     "text": [
      "\n",
      "for beta_d=[0.0, 0.0, 0.0]:\n",
      "Stratum H real value is: 23.9%, and it is bounded by: [0%, 48.64%]   ✔\n",
      "Stratum AS real value is: 25.9%, and it is bounded by: [0.74%, 49.38%]   ✔\n",
      "Stratum P real value is: 25.3%, and it is bounded by: [1.98%, 50.62%]   ✔\n",
      "Stratum D real value is: 24.9%, and it is bounded by: [0.0%, 48.64%]   ✔\n",
      "\n",
      "for beta_d=[-2.0, -2.0, 1.0]:\n",
      "Stratum H real value is: 1.4%, and it is bounded by: [0%, 2.33%]   ✔\n",
      "Stratum AS real value is: 84.8%, and it is bounded by: [85.07%, 87.4%]   ✘\n",
      "Stratum P real value is: 13.4%, and it is bounded by: [10.28%, 12.6%]   ✘\n",
      "Stratum D real value is: 0.4%, and it is bounded by: [0.0%, 2.33%]   ✔\n",
      "\n",
      "for beta_d=[0.0, 5.0, 0.0]:\n",
      "Stratum H real value is: 49.4%, and it is bounded by: [48.6%, 49.38%]   ✘\n",
      "Stratum AS real value is: 0.4%, and it is bounded by: [0.0%, 0.78%]   ✔\n",
      "Stratum P real value is: 0.3%, and it is bounded by: [-0.0%, 0.78%]   ✔\n",
      "Stratum D real value is: 49.9%, and it is bounded by: [49.84%, 50.62%]   ✔\n",
      "\n",
      "for beta_d=[0.0, 10.0, 0.0]:\n",
      "Stratum H real value is: 49.8%, and it is bounded by: [49.38%, 49.38%]   ✘\n",
      "Stratum AS real value is: 0.0%, and it is bounded by: [0.0%, 0.0%]   ✔\n",
      "Stratum P real value is: 0.0%, and it is bounded by: [0.0%, 0.0%]   ✔\n",
      "Stratum D real value is: 50.2%, and it is bounded by: [50.62%, 50.62%]   ✘\n"
     ]
    }
   ],
   "source": [
    "check_strata_for_different_beta()"
   ],
   "metadata": {
    "collapsed": false
   }
  },
  {
   "cell_type": "markdown",
   "source": [
    "Interesting to see the results for extreme distribution (for example with $\\beta_D=[0,10,0]$)\n"
   ],
   "metadata": {
    "collapsed": false
   }
  },
  {
   "cell_type": "code",
   "execution_count": null,
   "outputs": [],
   "source": [],
   "metadata": {
    "collapsed": false
   }
  }
 ],
 "metadata": {
  "kernelspec": {
   "display_name": "Python 3",
   "language": "python",
   "name": "python3"
  },
  "language_info": {
   "codemirror_mode": {
    "name": "ipython",
    "version": 2
   },
   "file_extension": ".py",
   "mimetype": "text/x-python",
   "name": "python",
   "nbconvert_exporter": "python",
   "pygments_lexer": "ipython2",
   "version": "2.7.6"
  }
 },
 "nbformat": 4,
 "nbformat_minor": 0
}
