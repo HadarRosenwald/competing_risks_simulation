{
 "cells": [
  {
   "cell_type": "markdown",
   "source": [
    "# $\\pi$ - Strata proportions estimation"
   ],
   "metadata": {
    "collapsed": false
   }
  },
  {
   "cell_type": "code",
   "execution_count": 1,
   "outputs": [],
   "source": [
    "from typing import List, Dict, Tuple\n",
    "\n",
    "import pandas as pd\n",
    "from numpy import random\n",
    "\n",
    "from consts import default_random_seed\n",
    "from sample_generation import create_sample\n",
    "from strata import Strata\n",
    "\n",
    "random.seed(default_random_seed)"
   ],
   "metadata": {
    "collapsed": false
   }
  },
  {
   "cell_type": "code",
   "execution_count": 2,
   "outputs": [],
   "source": [
    "def bound_strata_proportions(df: pd.DataFrame) -> Dict[Strata, Tuple[float, float]]:\n",
    "    p_t1_d0 = df.loc[(df.D_obs==0)&(df.t==1)].shape[0]/df.loc[df.t==1].shape[0]\n",
    "    p_t0_d0 = df.loc[(df.D_obs==0)&(df.t==0)].shape[0]/df.loc[df.t==0].shape[0]\n",
    "\n",
    "    pi_h_lower = max(0, p_t0_d0 - p_t1_d0)\n",
    "    pi_h_upper = min(p_t0_d0, 1 - p_t1_d0)\n",
    "\n",
    "    pi_as_lower = p_t0_d0 - pi_h_upper\n",
    "    pi_as_upper = p_t0_d0 - pi_h_lower\n",
    "\n",
    "    pi_p_lower = p_t1_d0 - p_t0_d0 + pi_h_lower\n",
    "    pi_p_upper = p_t1_d0 - p_t0_d0 + pi_h_upper\n",
    "\n",
    "    pi_d_lower = 1 - p_t1_d0 - pi_h_upper\n",
    "    pi_d_upper = 1 - p_t1_d0 - pi_h_lower\n",
    "\n",
    "    return {Strata.H: (pi_h_lower, pi_h_upper), Strata.AS: (pi_as_lower, pi_as_upper),\n",
    "            Strata.P: (pi_p_lower, pi_p_upper), Strata.D: (pi_d_lower, pi_d_upper)}\n"
   ],
   "metadata": {
    "collapsed": false
   }
  },
  {
   "cell_type": "code",
   "execution_count": 3,
   "outputs": [],
   "source": [
    "def check_strata_for_different_beta(beta_d_list: List[float] = [[0.0, 0.0, 0.0], [-2.0, -2.0, 1.0], [0.0, 5.0, 0.0], [0.0, 10.0, 0.0], [0.0, 3.7, 0.0]]):\n",
    "    for beta_d in beta_d_list:\n",
    "        print(f\"\\nFor beta_d={beta_d}:\")\n",
    "        sample_for_bounds = create_sample(beta_d = beta_d)\n",
    "        t1 = sample_for_bounds.loc[sample_for_bounds.t==1].shape[0]\n",
    "        t0 = sample_for_bounds.loc[sample_for_bounds.t==0].shape[0]\n",
    "        sample_size = sample_for_bounds.shape[0]\n",
    "        print(f\"\\t{t1} got T=1 ({round(100*t1/sample_size,2)}%), {t0} got T=0 ({round(100*t0/sample_size,2)}%)\")\n",
    "        prprtn_bounds = bound_strata_proportions(sample_for_bounds)\n",
    "\n",
    "        for stratum , bounds in prprtn_bounds.items():\n",
    "            stratum_size = sample_for_bounds.loc[sample_for_bounds.stratum==stratum.name].shape[0]\n",
    "            stratum_size_t1 = sample_for_bounds.loc[(sample_for_bounds.stratum==stratum.name)&(sample_for_bounds.t==1)].shape[0]\n",
    "            stratum_size_t0 = sample_for_bounds.loc[(sample_for_bounds.stratum==stratum.name)&(sample_for_bounds.t==0)].shape[0]\n",
    "            true_pi  = round(100*stratum_size/sample_size,2)\n",
    "            lower_bound = round(100*bounds[0],2)\n",
    "            upper_bound = round(100*bounds[1],2)\n",
    "\n",
    "            within_bounds = \"✔\" if lower_bound<=true_pi<=upper_bound else \"✘\"\n",
    "\n",
    "            print(f\"\\tStratum {stratum.name} real value is: {true_pi}% ({stratum_size} samples), and it is bounded by: [{lower_bound}%, {upper_bound}%]   {within_bounds}\")\n",
    "            print(f\"\\tIn T=1, {stratum_size_t1} are {stratum.name} ({round(100*stratum_size_t1/t1,2)}%). In T=0, {stratum_size_t0} are {stratum.name} ({round(100*stratum_size_t0/t0,2)}%). {round(100*(stratum_size_t1/t1-stratum_size_t0/t0)/(stratum_size_t1/t1),2) if  (stratum_size_t1/t1) else 'None'} % difference\")"
   ],
   "metadata": {
    "collapsed": false
   }
  },
  {
   "cell_type": "code",
   "execution_count": 4,
   "outputs": [
    {
     "name": "stdout",
     "output_type": "stream",
     "text": [
      "\n",
      "For beta_d=[0.0, 0.0, 0.0]:\n",
      "\t5064 got T=1 (50.64%), 4936 got T=0 (49.36%)\n",
      "\tStratum H real value is: 24.91% (2491 samples), and it is bounded by: [0%, 48.56%]   ✔\n",
      "\tIn T=1, 1287 are H (25.41%). In T=0, 1204 are H (24.39%). 4.02 % difference\n",
      "\tStratum AS real value is: 24.87% (2487 samples), and it is bounded by: [0.0%, 48.56%]   ✔\n",
      "\tIn T=1, 1294 are AS (25.55%). In T=0, 1193 are AS (24.17%). 5.41 % difference\n",
      "\tStratum P real value is: 25.13% (2513 samples), and it is bounded by: [2.07%, 50.63%]   ✔\n",
      "\tIn T=1, 1270 are P (25.08%). In T=0, 1243 are P (25.18%). -0.41 % difference\n",
      "\tStratum D real value is: 25.09% (2509 samples), and it is bounded by: [0.81%, 49.37%]   ✔\n",
      "\tIn T=1, 1213 are D (23.95%). In T=0, 1296 are D (26.26%). -9.61 % difference\n",
      "\n",
      "For beta_d=[-2.0, -2.0, 1.0]:\n",
      "\t5064 got T=1 (50.64%), 4936 got T=0 (49.36%)\n",
      "\tStratum H real value is: 1.77% (177 samples), and it is bounded by: [0%, 1.86%]   ✔\n",
      "\tIn T=1, 81 are H (1.6%). In T=0, 96 are H (1.94%). -21.59 % difference\n",
      "\tStratum AS real value is: 85.22% (8522 samples), and it is bounded by: [84.61%, 86.47%]   ✔\n",
      "\tIn T=1, 4350 are AS (85.9%). In T=0, 4172 are AS (84.52%). 1.6 % difference\n",
      "\tStratum P real value is: 12.77% (1277 samples), and it is bounded by: [11.68%, 13.53%]   ✔\n",
      "\tIn T=1, 620 are P (12.24%). In T=0, 657 are P (13.31%). -8.72 % difference\n",
      "\tStratum D real value is: 0.24% (24 samples), and it is bounded by: [0.0%, 1.86%]   ✔\n",
      "\tIn T=1, 13 are D (0.26%). In T=0, 11 are D (0.22%). 13.19 % difference\n",
      "\n",
      "For beta_d=[0.0, 5.0, 0.0]:\n",
      "\t5064 got T=1 (50.64%), 4936 got T=0 (49.36%)\n",
      "\tStratum H real value is: 49.48% (4948 samples), and it is bounded by: [48.05%, 48.56%]   ✘\n",
      "\tIn T=1, 2570 are H (50.75%). In T=0, 2378 are H (48.18%). 5.07 % difference\n",
      "\tStratum AS real value is: 0.3% (30 samples), and it is bounded by: [0.0%, 0.51%]   ✔\n",
      "\tIn T=1, 11 are AS (0.22%). In T=0, 19 are AS (0.38%). -77.21 % difference\n",
      "\tStratum P real value is: 0.29% (29 samples), and it is bounded by: [0.0%, 0.51%]   ✔\n",
      "\tIn T=1, 15 are P (0.3%). In T=0, 14 are P (0.28%). 4.25 % difference\n",
      "\tStratum D real value is: 49.93% (4993 samples), and it is bounded by: [50.92%, 51.44%]   ✘\n",
      "\tIn T=1, 2468 are D (48.74%). In T=0, 2525 are D (51.15%). -4.96 % difference\n",
      "\n",
      "For beta_d=[0.0, 10.0, 0.0]:\n",
      "\t5064 got T=1 (50.64%), 4936 got T=0 (49.36%)\n",
      "\tStratum H real value is: 49.78% (4978 samples), and it is bounded by: [48.56%, 48.56%]   ✘\n",
      "\tIn T=1, 2581 are H (50.97%). In T=0, 2397 are H (48.56%). 4.72 % difference\n",
      "\tStratum AS real value is: 0.0% (0 samples), and it is bounded by: [0.0%, 0.0%]   ✔\n",
      "\tIn T=1, 0 are AS (0.0%). In T=0, 0 are AS (0.0%). None % difference\n",
      "\tStratum P real value is: 0.0% (0 samples), and it is bounded by: [0.0%, 0.0%]   ✔\n",
      "\tIn T=1, 0 are P (0.0%). In T=0, 0 are P (0.0%). None % difference\n",
      "\tStratum D real value is: 50.22% (5022 samples), and it is bounded by: [51.44%, 51.44%]   ✘\n",
      "\tIn T=1, 2483 are D (49.03%). In T=0, 2539 are D (51.44%). -4.91 % difference\n",
      "\n",
      "For beta_d=[0.0, 3.7, 0.0]:\n",
      "\t5064 got T=1 (50.64%), 4936 got T=0 (49.36%)\n",
      "\tStratum H real value is: 48.54% (4854 samples), and it is bounded by: [46.45%, 48.56%]   ✔\n",
      "\tIn T=1, 2526 are H (49.88%). In T=0, 2328 are H (47.16%). 5.45 % difference\n",
      "\tStratum AS real value is: 1.24% (124 samples), and it is bounded by: [0.0%, 2.11%]   ✔\n",
      "\tIn T=1, 55 are AS (1.09%). In T=0, 69 are AS (1.4%). -28.71 % difference\n",
      "\tStratum P real value is: 1.1% (110 samples), and it is bounded by: [0.0%, 2.11%]   ✔\n",
      "\tIn T=1, 52 are P (1.03%). In T=0, 58 are P (1.18%). -14.43 % difference\n",
      "\tStratum D real value is: 49.12% (4912 samples), and it is bounded by: [49.33%, 51.44%]   ✘\n",
      "\tIn T=1, 2431 are D (48.01%). In T=0, 2481 are D (50.26%). -4.7 % difference\n"
     ]
    }
   ],
   "source": [
    "check_strata_for_different_beta()"
   ],
   "metadata": {
    "collapsed": false
   }
  },
  {
   "cell_type": "markdown",
   "source": [
    "Interesting to see the results for extreme distribution (for example with $\\beta_D=[0,10,0]$)\n"
   ],
   "metadata": {
    "collapsed": false
   }
  },
  {
   "cell_type": "code",
   "execution_count": null,
   "outputs": [],
   "source": [],
   "metadata": {
    "collapsed": false,
    "pycharm": {
     "is_executing": true
    }
   }
  }
 ],
 "metadata": {
  "kernelspec": {
   "display_name": "Python 3",
   "language": "python",
   "name": "python3"
  },
  "language_info": {
   "codemirror_mode": {
    "name": "ipython",
    "version": 2
   },
   "file_extension": ".py",
   "mimetype": "text/x-python",
   "name": "python",
   "nbconvert_exporter": "python",
   "pygments_lexer": "ipython2",
   "version": "2.7.6"
  }
 },
 "nbformat": 4,
 "nbformat_minor": 0
}
